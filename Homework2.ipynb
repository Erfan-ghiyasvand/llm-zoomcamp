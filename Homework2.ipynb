{
 "cells": [
  {
   "cell_type": "code",
   "execution_count": null,
   "id": "362bca0d",
   "metadata": {},
   "outputs": [],
   "source": [
    "from fastembed import TextEmbedding \n",
    "import numpy as np\n",
    "import pandas as pd"
   ]
  },
  {
   "cell_type": "code",
   "execution_count": 2,
   "id": "8d9140ca",
   "metadata": {},
   "outputs": [],
   "source": [
    "question = 'I just discovered the course. Can I join now?'\n",
    "model_name='jinaai/jina-embeddings-v2-small-en'\n",
    "\n",
    "model = TextEmbedding(model_name=model_name)"
   ]
  },
  {
   "cell_type": "code",
   "execution_count": 3,
   "id": "3d4c9b8d",
   "metadata": {},
   "outputs": [
    {
     "data": {
      "text/plain": [
       "np.float64(-0.11726373885183883)"
      ]
     },
     "execution_count": 3,
     "metadata": {},
     "output_type": "execute_result"
    }
   ],
   "source": [
    "q = list(model.embed(question))[0]\n",
    "\n",
    "min(q)"
   ]
  },
  {
   "cell_type": "code",
   "execution_count": 4,
   "id": "904ee59c",
   "metadata": {},
   "outputs": [
    {
     "data": {
      "text/plain": [
       "np.float64(1.0)"
      ]
     },
     "execution_count": 4,
     "metadata": {},
     "output_type": "execute_result"
    }
   ],
   "source": [
    "np.linalg.norm(q)"
   ]
  },
  {
   "cell_type": "code",
   "execution_count": 5,
   "id": "ff0a7a97",
   "metadata": {},
   "outputs": [
    {
     "data": {
      "text/plain": [
       "np.float64(1.0000000000000002)"
      ]
     },
     "execution_count": 5,
     "metadata": {},
     "output_type": "execute_result"
    }
   ],
   "source": [
    "q.dot(q)"
   ]
  },
  {
   "cell_type": "code",
   "execution_count": 6,
   "id": "99255435",
   "metadata": {},
   "outputs": [],
   "source": [
    "doc ='Can I still join the course after the start date?'\n",
    "\n",
    "embeddings2 = list(model.embed(doc))[0]"
   ]
  },
  {
   "cell_type": "code",
   "execution_count": 7,
   "id": "75a7c0af",
   "metadata": {},
   "outputs": [
    {
     "data": {
      "text/plain": [
       "np.float64(0.9008528895674548)"
      ]
     },
     "execution_count": 7,
     "metadata": {},
     "output_type": "execute_result"
    }
   ],
   "source": [
    "embeddings2.dot(q)"
   ]
  },
  {
   "cell_type": "code",
   "execution_count": 8,
   "id": "784b400c",
   "metadata": {},
   "outputs": [],
   "source": [
    "documents = [{'text': \"Yes, even if you don't register, you're still eligible to submit the homeworks.\\nBe aware, however, that there will be deadlines for turning in the final projects. So don't leave everything for the last minute.\",\n",
    "  'section': 'General course-related questions',\n",
    "  'question': 'Course - Can I still join the course after the start date?',\n",
    "  'course': 'data-engineering-zoomcamp'},\n",
    " {'text': 'Yes, we will keep all the materials after the course finishes, so you can follow the course at your own pace after it finishes.\\nYou can also continue looking at the homeworks and continue preparing for the next cohort. I guess you can also start working on your final capstone project.',\n",
    "  'section': 'General course-related questions',\n",
    "  'question': 'Course - Can I follow the course after it finishes?',\n",
    "  'course': 'data-engineering-zoomcamp'},\n",
    " {'text': \"The purpose of this document is to capture frequently asked technical questions\\nThe exact day and hour of the course will be 15th Jan 2024 at 17h00. The course will start with the first  “Office Hours'' live.1\\nSubscribe to course public Google Calendar (it works from Desktop only).\\nRegister before the course starts using this link.\\nJoin the course Telegram channel with announcements.\\nDon’t forget to register in DataTalks.Club's Slack and join the channel.\",\n",
    "  'section': 'General course-related questions',\n",
    "  'question': 'Course - When will the course start?',\n",
    "  'course': 'data-engineering-zoomcamp'},\n",
    " {'text': 'You can start by installing and setting up all the dependencies and requirements:\\nGoogle cloud account\\nGoogle Cloud SDK\\nPython 3 (installed with Anaconda)\\nTerraform\\nGit\\nLook over the prerequisites and syllabus to see if you are comfortable with these subjects.',\n",
    "  'section': 'General course-related questions',\n",
    "  'question': 'Course - What can I do before the course starts?',\n",
    "  'course': 'data-engineering-zoomcamp'},\n",
    " {'text': 'Star the repo! Share it with friends if you find it useful ❣️\\nCreate a PR if you see you can improve the text or the structure of the repository.',\n",
    "  'section': 'General course-related questions',\n",
    "  'question': 'How can we contribute to the course?',\n",
    "  'course': 'data-engineering-zoomcamp'}]"
   ]
  },
  {
   "cell_type": "code",
   "execution_count": 9,
   "id": "df7106c5",
   "metadata": {},
   "outputs": [],
   "source": [
    "V= []\n",
    "for doc in documents:\n",
    "    embedding= list(model.embed(doc[\"text\"]))\n",
    "    V.append(embedding[0])\n",
    "V=np.array(V)"
   ]
  },
  {
   "cell_type": "code",
   "execution_count": 10,
   "id": "df220971",
   "metadata": {},
   "outputs": [
    {
     "data": {
      "text/plain": [
       "(5, 512)"
      ]
     },
     "execution_count": 10,
     "metadata": {},
     "output_type": "execute_result"
    }
   ],
   "source": [
    "V.shape"
   ]
  },
  {
   "cell_type": "code",
   "execution_count": 11,
   "id": "65cbb41c",
   "metadata": {},
   "outputs": [
    {
     "data": {
      "text/plain": [
       "array([0.76296847, 0.81823782, 0.80853974, 0.7133079 , 0.73044992])"
      ]
     },
     "execution_count": 11,
     "metadata": {},
     "output_type": "execute_result"
    }
   ],
   "source": [
    "V.dot(q)"
   ]
  },
  {
   "cell_type": "code",
   "execution_count": 12,
   "id": "1f2017f8",
   "metadata": {},
   "outputs": [],
   "source": [
    "V2= []\n",
    "for doc in documents:\n",
    "    full_text = doc['question'] + ' ' + doc['text']\n",
    "    embedding= list(model.embed(full_text))\n",
    "    V2.append(embedding[0])\n",
    "V2=np.array(V2)"
   ]
  },
  {
   "cell_type": "code",
   "execution_count": 13,
   "id": "e7feab41",
   "metadata": {},
   "outputs": [
    {
     "data": {
      "text/plain": [
       "array([0.85145432, 0.84365942, 0.8408287 , 0.7755158 , 0.80860078])"
      ]
     },
     "execution_count": 13,
     "metadata": {},
     "output_type": "execute_result"
    }
   ],
   "source": [
    "V2.dot(q)"
   ]
  },
  {
   "cell_type": "code",
   "execution_count": 14,
   "id": "76e4c9a8",
   "metadata": {},
   "outputs": [
    {
     "data": {
      "text/html": [
       "<div>\n",
       "<style scoped>\n",
       "    .dataframe tbody tr th:only-of-type {\n",
       "        vertical-align: middle;\n",
       "    }\n",
       "\n",
       "    .dataframe tbody tr th {\n",
       "        vertical-align: top;\n",
       "    }\n",
       "\n",
       "    .dataframe thead th {\n",
       "        text-align: right;\n",
       "    }\n",
       "</style>\n",
       "<table border=\"1\" class=\"dataframe\">\n",
       "  <thead>\n",
       "    <tr style=\"text-align: right;\">\n",
       "      <th></th>\n",
       "      <th>model</th>\n",
       "      <th>description</th>\n",
       "      <th>license</th>\n",
       "      <th>size_in_GB</th>\n",
       "      <th>dim</th>\n",
       "      <th>tasks</th>\n",
       "    </tr>\n",
       "  </thead>\n",
       "  <tbody>\n",
       "    <tr>\n",
       "      <th>0</th>\n",
       "      <td>BAAI/bge-small-en</td>\n",
       "      <td>Text embeddings, Unimodal (text), English, 512...</td>\n",
       "      <td>mit</td>\n",
       "      <td>0.130</td>\n",
       "      <td>384</td>\n",
       "      <td>{}</td>\n",
       "    </tr>\n",
       "    <tr>\n",
       "      <th>1</th>\n",
       "      <td>BAAI/bge-small-en-v1.5</td>\n",
       "      <td>Text embeddings, Unimodal (text), English, 512...</td>\n",
       "      <td>mit</td>\n",
       "      <td>0.067</td>\n",
       "      <td>384</td>\n",
       "      <td>{}</td>\n",
       "    </tr>\n",
       "    <tr>\n",
       "      <th>2</th>\n",
       "      <td>snowflake/snowflake-arctic-embed-xs</td>\n",
       "      <td>Text embeddings, Unimodal (text), English, 512...</td>\n",
       "      <td>apache-2.0</td>\n",
       "      <td>0.090</td>\n",
       "      <td>384</td>\n",
       "      <td>{}</td>\n",
       "    </tr>\n",
       "    <tr>\n",
       "      <th>3</th>\n",
       "      <td>snowflake/snowflake-arctic-embed-s</td>\n",
       "      <td>Text embeddings, Unimodal (text), English, 512...</td>\n",
       "      <td>apache-2.0</td>\n",
       "      <td>0.130</td>\n",
       "      <td>384</td>\n",
       "      <td>{}</td>\n",
       "    </tr>\n",
       "    <tr>\n",
       "      <th>4</th>\n",
       "      <td>sentence-transformers/all-MiniLM-L6-v2</td>\n",
       "      <td>Text embeddings, Unimodal (text), English, 256...</td>\n",
       "      <td>apache-2.0</td>\n",
       "      <td>0.090</td>\n",
       "      <td>384</td>\n",
       "      <td>{}</td>\n",
       "    </tr>\n",
       "    <tr>\n",
       "      <th>5</th>\n",
       "      <td>sentence-transformers/paraphrase-multilingual-...</td>\n",
       "      <td>Text embeddings, Unimodal (text), Multilingual...</td>\n",
       "      <td>apache-2.0</td>\n",
       "      <td>0.220</td>\n",
       "      <td>384</td>\n",
       "      <td>{}</td>\n",
       "    </tr>\n",
       "    <tr>\n",
       "      <th>6</th>\n",
       "      <td>BAAI/bge-small-zh-v1.5</td>\n",
       "      <td>Text embeddings, Unimodal (text), Chinese, 512...</td>\n",
       "      <td>mit</td>\n",
       "      <td>0.090</td>\n",
       "      <td>512</td>\n",
       "      <td>{}</td>\n",
       "    </tr>\n",
       "    <tr>\n",
       "      <th>7</th>\n",
       "      <td>Qdrant/clip-ViT-B-32-text</td>\n",
       "      <td>Text embeddings, Multimodal (text&amp;image), Engl...</td>\n",
       "      <td>mit</td>\n",
       "      <td>0.250</td>\n",
       "      <td>512</td>\n",
       "      <td>{}</td>\n",
       "    </tr>\n",
       "    <tr>\n",
       "      <th>8</th>\n",
       "      <td>jinaai/jina-embeddings-v2-small-en</td>\n",
       "      <td>Text embeddings, Unimodal (text), English, 819...</td>\n",
       "      <td>apache-2.0</td>\n",
       "      <td>0.120</td>\n",
       "      <td>512</td>\n",
       "      <td>{}</td>\n",
       "    </tr>\n",
       "    <tr>\n",
       "      <th>9</th>\n",
       "      <td>snowflake/snowflake-arctic-embed-m-long</td>\n",
       "      <td>Text embeddings, Unimodal (text), English, 204...</td>\n",
       "      <td>apache-2.0</td>\n",
       "      <td>0.540</td>\n",
       "      <td>768</td>\n",
       "      <td>{}</td>\n",
       "    </tr>\n",
       "    <tr>\n",
       "      <th>10</th>\n",
       "      <td>jinaai/jina-clip-v1</td>\n",
       "      <td>Text embeddings, Multimodal (text&amp;image), Engl...</td>\n",
       "      <td>apache-2.0</td>\n",
       "      <td>0.550</td>\n",
       "      <td>768</td>\n",
       "      <td>{}</td>\n",
       "    </tr>\n",
       "    <tr>\n",
       "      <th>11</th>\n",
       "      <td>snowflake/snowflake-arctic-embed-m</td>\n",
       "      <td>Text embeddings, Unimodal (text), English, 512...</td>\n",
       "      <td>apache-2.0</td>\n",
       "      <td>0.430</td>\n",
       "      <td>768</td>\n",
       "      <td>{}</td>\n",
       "    </tr>\n",
       "    <tr>\n",
       "      <th>12</th>\n",
       "      <td>jinaai/jina-embeddings-v2-base-en</td>\n",
       "      <td>Text embeddings, Unimodal (text), English, 819...</td>\n",
       "      <td>apache-2.0</td>\n",
       "      <td>0.520</td>\n",
       "      <td>768</td>\n",
       "      <td>{}</td>\n",
       "    </tr>\n",
       "    <tr>\n",
       "      <th>13</th>\n",
       "      <td>jinaai/jina-embeddings-v2-base-code</td>\n",
       "      <td>Text embeddings, Unimodal (text), Multilingual...</td>\n",
       "      <td>apache-2.0</td>\n",
       "      <td>0.640</td>\n",
       "      <td>768</td>\n",
       "      <td>{}</td>\n",
       "    </tr>\n",
       "    <tr>\n",
       "      <th>14</th>\n",
       "      <td>BAAI/bge-base-en-v1.5</td>\n",
       "      <td>Text embeddings, Unimodal (text), English, 512...</td>\n",
       "      <td>mit</td>\n",
       "      <td>0.210</td>\n",
       "      <td>768</td>\n",
       "      <td>{}</td>\n",
       "    </tr>\n",
       "    <tr>\n",
       "      <th>15</th>\n",
       "      <td>BAAI/bge-base-en</td>\n",
       "      <td>Text embeddings, Unimodal (text), English, 512...</td>\n",
       "      <td>mit</td>\n",
       "      <td>0.420</td>\n",
       "      <td>768</td>\n",
       "      <td>{}</td>\n",
       "    </tr>\n",
       "    <tr>\n",
       "      <th>16</th>\n",
       "      <td>nomic-ai/nomic-embed-text-v1</td>\n",
       "      <td>Text embeddings, Multimodal (text, image), Eng...</td>\n",
       "      <td>apache-2.0</td>\n",
       "      <td>0.520</td>\n",
       "      <td>768</td>\n",
       "      <td>{}</td>\n",
       "    </tr>\n",
       "    <tr>\n",
       "      <th>17</th>\n",
       "      <td>nomic-ai/nomic-embed-text-v1.5-Q</td>\n",
       "      <td>Text embeddings, Multimodal (text, image), Eng...</td>\n",
       "      <td>apache-2.0</td>\n",
       "      <td>0.130</td>\n",
       "      <td>768</td>\n",
       "      <td>{}</td>\n",
       "    </tr>\n",
       "    <tr>\n",
       "      <th>18</th>\n",
       "      <td>sentence-transformers/paraphrase-multilingual-...</td>\n",
       "      <td>Text embeddings, Unimodal (text), Multilingual...</td>\n",
       "      <td>apache-2.0</td>\n",
       "      <td>1.000</td>\n",
       "      <td>768</td>\n",
       "      <td>{}</td>\n",
       "    </tr>\n",
       "    <tr>\n",
       "      <th>19</th>\n",
       "      <td>jinaai/jina-embeddings-v2-base-de</td>\n",
       "      <td>Text embeddings, Unimodal (text), Multilingual...</td>\n",
       "      <td>apache-2.0</td>\n",
       "      <td>0.320</td>\n",
       "      <td>768</td>\n",
       "      <td>{}</td>\n",
       "    </tr>\n",
       "    <tr>\n",
       "      <th>20</th>\n",
       "      <td>jinaai/jina-embeddings-v2-base-es</td>\n",
       "      <td>Text embeddings, Unimodal (text), supports mix...</td>\n",
       "      <td>apache-2.0</td>\n",
       "      <td>0.640</td>\n",
       "      <td>768</td>\n",
       "      <td>{}</td>\n",
       "    </tr>\n",
       "    <tr>\n",
       "      <th>21</th>\n",
       "      <td>thenlper/gte-base</td>\n",
       "      <td>General text embeddings, Unimodal (text), supp...</td>\n",
       "      <td>mit</td>\n",
       "      <td>0.440</td>\n",
       "      <td>768</td>\n",
       "      <td>{}</td>\n",
       "    </tr>\n",
       "    <tr>\n",
       "      <th>22</th>\n",
       "      <td>nomic-ai/nomic-embed-text-v1.5</td>\n",
       "      <td>Text embeddings, Multimodal (text, image), Eng...</td>\n",
       "      <td>apache-2.0</td>\n",
       "      <td>0.520</td>\n",
       "      <td>768</td>\n",
       "      <td>{}</td>\n",
       "    </tr>\n",
       "    <tr>\n",
       "      <th>23</th>\n",
       "      <td>jinaai/jina-embeddings-v2-base-zh</td>\n",
       "      <td>Text embeddings, Unimodal (text), supports mix...</td>\n",
       "      <td>apache-2.0</td>\n",
       "      <td>0.640</td>\n",
       "      <td>768</td>\n",
       "      <td>{}</td>\n",
       "    </tr>\n",
       "    <tr>\n",
       "      <th>24</th>\n",
       "      <td>snowflake/snowflake-arctic-embed-l</td>\n",
       "      <td>Text embeddings, Unimodal (text), English, 512...</td>\n",
       "      <td>apache-2.0</td>\n",
       "      <td>1.020</td>\n",
       "      <td>1024</td>\n",
       "      <td>{}</td>\n",
       "    </tr>\n",
       "    <tr>\n",
       "      <th>25</th>\n",
       "      <td>mixedbread-ai/mxbai-embed-large-v1</td>\n",
       "      <td>Text embeddings, Unimodal (text), English, 512...</td>\n",
       "      <td>apache-2.0</td>\n",
       "      <td>0.640</td>\n",
       "      <td>1024</td>\n",
       "      <td>{}</td>\n",
       "    </tr>\n",
       "    <tr>\n",
       "      <th>26</th>\n",
       "      <td>BAAI/bge-large-en-v1.5</td>\n",
       "      <td>Text embeddings, Unimodal (text), English, 512...</td>\n",
       "      <td>mit</td>\n",
       "      <td>1.200</td>\n",
       "      <td>1024</td>\n",
       "      <td>{}</td>\n",
       "    </tr>\n",
       "    <tr>\n",
       "      <th>27</th>\n",
       "      <td>thenlper/gte-large</td>\n",
       "      <td>Text embeddings, Unimodal (text), English, 512...</td>\n",
       "      <td>mit</td>\n",
       "      <td>1.200</td>\n",
       "      <td>1024</td>\n",
       "      <td>{}</td>\n",
       "    </tr>\n",
       "    <tr>\n",
       "      <th>28</th>\n",
       "      <td>intfloat/multilingual-e5-large</td>\n",
       "      <td>Text embeddings, Unimodal (text), Multilingual...</td>\n",
       "      <td>mit</td>\n",
       "      <td>2.240</td>\n",
       "      <td>1024</td>\n",
       "      <td>{}</td>\n",
       "    </tr>\n",
       "    <tr>\n",
       "      <th>29</th>\n",
       "      <td>jinaai/jina-embeddings-v3</td>\n",
       "      <td>Multi-task unimodal (text) embedding model, mu...</td>\n",
       "      <td>cc-by-nc-4.0</td>\n",
       "      <td>2.290</td>\n",
       "      <td>1024</td>\n",
       "      <td>{'retrieval.query': 0, 'retrieval.passage': 1,...</td>\n",
       "    </tr>\n",
       "  </tbody>\n",
       "</table>\n",
       "</div>"
      ],
      "text/plain": [
       "                                                model  \\\n",
       "0                                   BAAI/bge-small-en   \n",
       "1                              BAAI/bge-small-en-v1.5   \n",
       "2                 snowflake/snowflake-arctic-embed-xs   \n",
       "3                  snowflake/snowflake-arctic-embed-s   \n",
       "4              sentence-transformers/all-MiniLM-L6-v2   \n",
       "5   sentence-transformers/paraphrase-multilingual-...   \n",
       "6                              BAAI/bge-small-zh-v1.5   \n",
       "7                           Qdrant/clip-ViT-B-32-text   \n",
       "8                  jinaai/jina-embeddings-v2-small-en   \n",
       "9             snowflake/snowflake-arctic-embed-m-long   \n",
       "10                                jinaai/jina-clip-v1   \n",
       "11                 snowflake/snowflake-arctic-embed-m   \n",
       "12                  jinaai/jina-embeddings-v2-base-en   \n",
       "13                jinaai/jina-embeddings-v2-base-code   \n",
       "14                              BAAI/bge-base-en-v1.5   \n",
       "15                                   BAAI/bge-base-en   \n",
       "16                       nomic-ai/nomic-embed-text-v1   \n",
       "17                   nomic-ai/nomic-embed-text-v1.5-Q   \n",
       "18  sentence-transformers/paraphrase-multilingual-...   \n",
       "19                  jinaai/jina-embeddings-v2-base-de   \n",
       "20                  jinaai/jina-embeddings-v2-base-es   \n",
       "21                                  thenlper/gte-base   \n",
       "22                     nomic-ai/nomic-embed-text-v1.5   \n",
       "23                  jinaai/jina-embeddings-v2-base-zh   \n",
       "24                 snowflake/snowflake-arctic-embed-l   \n",
       "25                 mixedbread-ai/mxbai-embed-large-v1   \n",
       "26                             BAAI/bge-large-en-v1.5   \n",
       "27                                 thenlper/gte-large   \n",
       "28                     intfloat/multilingual-e5-large   \n",
       "29                          jinaai/jina-embeddings-v3   \n",
       "\n",
       "                                          description       license  \\\n",
       "0   Text embeddings, Unimodal (text), English, 512...           mit   \n",
       "1   Text embeddings, Unimodal (text), English, 512...           mit   \n",
       "2   Text embeddings, Unimodal (text), English, 512...    apache-2.0   \n",
       "3   Text embeddings, Unimodal (text), English, 512...    apache-2.0   \n",
       "4   Text embeddings, Unimodal (text), English, 256...    apache-2.0   \n",
       "5   Text embeddings, Unimodal (text), Multilingual...    apache-2.0   \n",
       "6   Text embeddings, Unimodal (text), Chinese, 512...           mit   \n",
       "7   Text embeddings, Multimodal (text&image), Engl...           mit   \n",
       "8   Text embeddings, Unimodal (text), English, 819...    apache-2.0   \n",
       "9   Text embeddings, Unimodal (text), English, 204...    apache-2.0   \n",
       "10  Text embeddings, Multimodal (text&image), Engl...    apache-2.0   \n",
       "11  Text embeddings, Unimodal (text), English, 512...    apache-2.0   \n",
       "12  Text embeddings, Unimodal (text), English, 819...    apache-2.0   \n",
       "13  Text embeddings, Unimodal (text), Multilingual...    apache-2.0   \n",
       "14  Text embeddings, Unimodal (text), English, 512...           mit   \n",
       "15  Text embeddings, Unimodal (text), English, 512...           mit   \n",
       "16  Text embeddings, Multimodal (text, image), Eng...    apache-2.0   \n",
       "17  Text embeddings, Multimodal (text, image), Eng...    apache-2.0   \n",
       "18  Text embeddings, Unimodal (text), Multilingual...    apache-2.0   \n",
       "19  Text embeddings, Unimodal (text), Multilingual...    apache-2.0   \n",
       "20  Text embeddings, Unimodal (text), supports mix...    apache-2.0   \n",
       "21  General text embeddings, Unimodal (text), supp...           mit   \n",
       "22  Text embeddings, Multimodal (text, image), Eng...    apache-2.0   \n",
       "23  Text embeddings, Unimodal (text), supports mix...    apache-2.0   \n",
       "24  Text embeddings, Unimodal (text), English, 512...    apache-2.0   \n",
       "25  Text embeddings, Unimodal (text), English, 512...    apache-2.0   \n",
       "26  Text embeddings, Unimodal (text), English, 512...           mit   \n",
       "27  Text embeddings, Unimodal (text), English, 512...           mit   \n",
       "28  Text embeddings, Unimodal (text), Multilingual...           mit   \n",
       "29  Multi-task unimodal (text) embedding model, mu...  cc-by-nc-4.0   \n",
       "\n",
       "    size_in_GB   dim                                              tasks  \n",
       "0        0.130   384                                                 {}  \n",
       "1        0.067   384                                                 {}  \n",
       "2        0.090   384                                                 {}  \n",
       "3        0.130   384                                                 {}  \n",
       "4        0.090   384                                                 {}  \n",
       "5        0.220   384                                                 {}  \n",
       "6        0.090   512                                                 {}  \n",
       "7        0.250   512                                                 {}  \n",
       "8        0.120   512                                                 {}  \n",
       "9        0.540   768                                                 {}  \n",
       "10       0.550   768                                                 {}  \n",
       "11       0.430   768                                                 {}  \n",
       "12       0.520   768                                                 {}  \n",
       "13       0.640   768                                                 {}  \n",
       "14       0.210   768                                                 {}  \n",
       "15       0.420   768                                                 {}  \n",
       "16       0.520   768                                                 {}  \n",
       "17       0.130   768                                                 {}  \n",
       "18       1.000   768                                                 {}  \n",
       "19       0.320   768                                                 {}  \n",
       "20       0.640   768                                                 {}  \n",
       "21       0.440   768                                                 {}  \n",
       "22       0.520   768                                                 {}  \n",
       "23       0.640   768                                                 {}  \n",
       "24       1.020  1024                                                 {}  \n",
       "25       0.640  1024                                                 {}  \n",
       "26       1.200  1024                                                 {}  \n",
       "27       1.200  1024                                                 {}  \n",
       "28       2.240  1024                                                 {}  \n",
       "29       2.290  1024  {'retrieval.query': 0, 'retrieval.passage': 1,...  "
      ]
     },
     "execution_count": 14,
     "metadata": {},
     "output_type": "execute_result"
    }
   ],
   "source": [
    "supported_models = (\n",
    "    pd.DataFrame(TextEmbedding.list_supported_models())\n",
    "    .sort_values(\"dim\")\n",
    "    .drop(columns=[\"sources\", \"model_file\", \"additional_files\"])\n",
    "    .reset_index(drop=True)\n",
    ")\n",
    "supported_models"
   ]
  },
  {
   "cell_type": "code",
   "execution_count": 15,
   "id": "54a7f91d",
   "metadata": {},
   "outputs": [],
   "source": [
    "import requests \n",
    "\n",
    "docs_url = 'https://github.com/alexeygrigorev/llm-rag-workshop/raw/main/notebooks/documents.json'\n",
    "docs_response = requests.get(docs_url)\n",
    "documents_raw = docs_response.json()\n",
    "\n",
    "\n",
    "documents = []\n",
    "\n",
    "for course in documents_raw:\n",
    "    course_name = course['course']\n",
    "    if course_name != 'machine-learning-zoomcamp':\n",
    "        continue\n",
    "\n",
    "    for doc in course['documents']:\n",
    "        doc['course'] = course_name\n",
    "        documents.append(doc)"
   ]
  },
  {
   "cell_type": "code",
   "execution_count": 16,
   "id": "b3bc9489",
   "metadata": {},
   "outputs": [],
   "source": [
    "from qdrant_client import QdrantClient , models"
   ]
  },
  {
   "cell_type": "code",
   "execution_count": 17,
   "id": "cc81d7d0",
   "metadata": {},
   "outputs": [],
   "source": [
    "qd_client = QdrantClient(\"http://localhost:6333\")"
   ]
  },
  {
   "cell_type": "code",
   "execution_count": 18,
   "id": "730e6809",
   "metadata": {},
   "outputs": [],
   "source": [
    "embedding_dimension = 384\n",
    "model_handel = \"BAAI/bge-small-en\"\n",
    "collection_name = \"homework2\""
   ]
  },
  {
   "cell_type": "code",
   "execution_count": 21,
   "id": "126d9e73",
   "metadata": {},
   "outputs": [
    {
     "data": {
      "text/plain": [
       "True"
      ]
     },
     "execution_count": 21,
     "metadata": {},
     "output_type": "execute_result"
    }
   ],
   "source": [
    "qd_client.create_collection(\n",
    "    collection_name=collection_name,\n",
    "    vectors_config=models.VectorParams(\n",
    "        size = embedding_dimension,\n",
    "        distance = models.Distance.COSINE\n",
    "    )\n",
    ")"
   ]
  },
  {
   "cell_type": "code",
   "execution_count": 22,
   "id": "9b610cf4",
   "metadata": {},
   "outputs": [
    {
     "data": {
      "text/plain": [
       "UpdateResult(operation_id=1, status=<UpdateStatus.COMPLETED: 'completed'>)"
      ]
     },
     "execution_count": 22,
     "metadata": {},
     "output_type": "execute_result"
    }
   ],
   "source": [
    "qd_client.create_payload_index(\n",
    "    collection_name= collection_name,\n",
    "    field_name=\"course\",\n",
    "    field_schema=\"keyword\"\n",
    ")"
   ]
  },
  {
   "cell_type": "code",
   "execution_count": 23,
   "id": "c913b66a",
   "metadata": {},
   "outputs": [],
   "source": [
    "points=[]\n",
    "\n",
    "for i , doc in enumerate(documents):\n",
    "    text = doc[\"question\"] + ' ' + doc[\"text\"]\n",
    "    vector = models.Document(text=text, model= model_handel)\n",
    "    point= models.PointStruct(id=i, vector= vector, payload=doc)\n",
    "    points.append(point)"
   ]
  },
  {
   "cell_type": "code",
   "execution_count": 24,
   "id": "328fc131",
   "metadata": {},
   "outputs": [
    {
     "data": {
      "text/plain": [
       "UpdateResult(operation_id=2, status=<UpdateStatus.COMPLETED: 'completed'>)"
      ]
     },
     "execution_count": 24,
     "metadata": {},
     "output_type": "execute_result"
    }
   ],
   "source": [
    "qd_client.upsert(\n",
    "    collection_name=collection_name,\n",
    "    points=points\n",
    ")"
   ]
  },
  {
   "cell_type": "code",
   "execution_count": 25,
   "id": "a355d47a",
   "metadata": {},
   "outputs": [],
   "source": [
    "def vector_search(question):\n",
    "    \n",
    "    query_points = qd_client.query_points(\n",
    "        collection_name=collection_name,\n",
    "        query=models.Document(\n",
    "            text= question,\n",
    "            model=model_handel\n",
    "        ),\n",
    "        limit=5,\n",
    "        with_payload=True\n",
    "    )\n",
    "    \n",
    "    return query_points.points"
   ]
  },
  {
   "cell_type": "code",
   "execution_count": 26,
   "id": "88888820",
   "metadata": {},
   "outputs": [
    {
     "data": {
      "text/plain": [
       "ScoredPoint(id=14, version=2, score=0.8703172, payload={'text': 'Yes, you can. You won’t be able to submit some of the homeworks, but you can still take part in the course.\\nIn order to get a certificate, you need to submit 2 out of 3 course projects and review 3 peers’ Projects by the deadline. It means that if you join the course at the end of November and manage to work on two projects, you will still be eligible for a certificate.', 'section': 'General course-related questions', 'question': 'The course has already started. Can I still join it?', 'course': 'machine-learning-zoomcamp'}, vector=None, shard_key=None, order_value=None)"
      ]
     },
     "execution_count": 26,
     "metadata": {},
     "output_type": "execute_result"
    }
   ],
   "source": [
    "vector_search(question)[0]"
   ]
  },
  {
   "cell_type": "code",
   "execution_count": null,
   "id": "5c6f9b0e",
   "metadata": {},
   "outputs": [],
   "source": []
  }
 ],
 "metadata": {
  "kernelspec": {
   "display_name": "Python 3",
   "language": "python",
   "name": "python3"
  },
  "language_info": {
   "codemirror_mode": {
    "name": "ipython",
    "version": 3
   },
   "file_extension": ".py",
   "mimetype": "text/x-python",
   "name": "python",
   "nbconvert_exporter": "python",
   "pygments_lexer": "ipython3",
   "version": "3.11.9"
  }
 },
 "nbformat": 4,
 "nbformat_minor": 5
}
